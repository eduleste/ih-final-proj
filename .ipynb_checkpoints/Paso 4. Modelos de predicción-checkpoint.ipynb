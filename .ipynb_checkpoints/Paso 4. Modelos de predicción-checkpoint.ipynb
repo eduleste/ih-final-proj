{
 "cells": [
  {
   "cell_type": "code",
   "execution_count": 1,
   "metadata": {},
   "outputs": [],
   "source": [
    "import pandas as pd\n",
    "from sklearn.model_selection import train_test_split\n",
    "from sklearn.linear_model import LogisticRegression\n",
    "from sklearn import metrics\n",
    "from sklearn.metrics import accuracy_score\n",
    "from sklearn import svm\n",
    "from sklearn.svm import SVC\n",
    "from sklearn.metrics import confusion_matrix\n",
    "from sklearn.ensemble import RandomForestClassifier\n",
    "from sklearn.ensemble import GradientBoostingClassifier\n",
    "from sklearn.model_selection import GridSearchCV"
   ]
  },
  {
   "cell_type": "code",
   "execution_count": 2,
   "metadata": {},
   "outputs": [],
   "source": [
    "data = pd.read_csv('para_prediccion.csv')"
   ]
  },
  {
   "cell_type": "code",
   "execution_count": 3,
   "metadata": {},
   "outputs": [
    {
     "data": {
      "text/html": [
       "<div>\n",
       "<style scoped>\n",
       "    .dataframe tbody tr th:only-of-type {\n",
       "        vertical-align: middle;\n",
       "    }\n",
       "\n",
       "    .dataframe tbody tr th {\n",
       "        vertical-align: top;\n",
       "    }\n",
       "\n",
       "    .dataframe thead th {\n",
       "        text-align: right;\n",
       "    }\n",
       "</style>\n",
       "<table border=\"1\" class=\"dataframe\">\n",
       "  <thead>\n",
       "    <tr style=\"text-align: right;\">\n",
       "      <th></th>\n",
       "      <th>0</th>\n",
       "      <th>1</th>\n",
       "      <th>2</th>\n",
       "      <th>3</th>\n",
       "      <th>4</th>\n",
       "      <th>5</th>\n",
       "      <th>6</th>\n",
       "      <th>7</th>\n",
       "      <th>8</th>\n",
       "      <th>9</th>\n",
       "      <th>...</th>\n",
       "      <th>11</th>\n",
       "      <th>12</th>\n",
       "      <th>13</th>\n",
       "      <th>14</th>\n",
       "      <th>15</th>\n",
       "      <th>16</th>\n",
       "      <th>17</th>\n",
       "      <th>18</th>\n",
       "      <th>19</th>\n",
       "      <th>clusters</th>\n",
       "    </tr>\n",
       "  </thead>\n",
       "  <tbody>\n",
       "    <tr>\n",
       "      <th>0</th>\n",
       "      <td>-0.010839</td>\n",
       "      <td>-0.054468</td>\n",
       "      <td>-0.045219</td>\n",
       "      <td>0.027904</td>\n",
       "      <td>0.004178</td>\n",
       "      <td>0.014831</td>\n",
       "      <td>0.027975</td>\n",
       "      <td>0.020720</td>\n",
       "      <td>0.001589</td>\n",
       "      <td>-0.044038</td>\n",
       "      <td>...</td>\n",
       "      <td>0.023595</td>\n",
       "      <td>0.019732</td>\n",
       "      <td>0.020299</td>\n",
       "      <td>0.036435</td>\n",
       "      <td>0.013404</td>\n",
       "      <td>-0.001830</td>\n",
       "      <td>-0.001894</td>\n",
       "      <td>-0.007802</td>\n",
       "      <td>0.015702</td>\n",
       "      <td>15</td>\n",
       "    </tr>\n",
       "    <tr>\n",
       "      <th>1</th>\n",
       "      <td>0.021419</td>\n",
       "      <td>0.054545</td>\n",
       "      <td>0.024494</td>\n",
       "      <td>0.050154</td>\n",
       "      <td>-0.010105</td>\n",
       "      <td>0.026295</td>\n",
       "      <td>0.095038</td>\n",
       "      <td>-0.010750</td>\n",
       "      <td>-0.019918</td>\n",
       "      <td>0.008337</td>\n",
       "      <td>...</td>\n",
       "      <td>-0.019816</td>\n",
       "      <td>0.033519</td>\n",
       "      <td>0.009484</td>\n",
       "      <td>0.026311</td>\n",
       "      <td>-0.020406</td>\n",
       "      <td>-0.002193</td>\n",
       "      <td>0.028673</td>\n",
       "      <td>-0.068564</td>\n",
       "      <td>-0.004727</td>\n",
       "      <td>15</td>\n",
       "    </tr>\n",
       "    <tr>\n",
       "      <th>2</th>\n",
       "      <td>-0.183194</td>\n",
       "      <td>0.108344</td>\n",
       "      <td>0.022234</td>\n",
       "      <td>-0.027682</td>\n",
       "      <td>-0.090615</td>\n",
       "      <td>-0.234042</td>\n",
       "      <td>0.249747</td>\n",
       "      <td>0.327930</td>\n",
       "      <td>-0.082440</td>\n",
       "      <td>0.054169</td>\n",
       "      <td>...</td>\n",
       "      <td>0.041407</td>\n",
       "      <td>-0.035618</td>\n",
       "      <td>0.095068</td>\n",
       "      <td>0.089690</td>\n",
       "      <td>-0.026049</td>\n",
       "      <td>0.000724</td>\n",
       "      <td>0.098367</td>\n",
       "      <td>0.035648</td>\n",
       "      <td>-0.008599</td>\n",
       "      <td>28</td>\n",
       "    </tr>\n",
       "    <tr>\n",
       "      <th>3</th>\n",
       "      <td>-0.187664</td>\n",
       "      <td>0.074293</td>\n",
       "      <td>0.027456</td>\n",
       "      <td>-0.008034</td>\n",
       "      <td>0.031899</td>\n",
       "      <td>0.007388</td>\n",
       "      <td>-0.054129</td>\n",
       "      <td>-0.089500</td>\n",
       "      <td>0.059327</td>\n",
       "      <td>-0.024967</td>\n",
       "      <td>...</td>\n",
       "      <td>-0.099716</td>\n",
       "      <td>-0.199648</td>\n",
       "      <td>0.246057</td>\n",
       "      <td>0.319427</td>\n",
       "      <td>0.065042</td>\n",
       "      <td>-0.026644</td>\n",
       "      <td>-0.130788</td>\n",
       "      <td>0.072236</td>\n",
       "      <td>-0.147840</td>\n",
       "      <td>1</td>\n",
       "    </tr>\n",
       "    <tr>\n",
       "      <th>4</th>\n",
       "      <td>-0.064482</td>\n",
       "      <td>-0.034150</td>\n",
       "      <td>-0.034454</td>\n",
       "      <td>0.015236</td>\n",
       "      <td>0.026857</td>\n",
       "      <td>0.032034</td>\n",
       "      <td>0.042911</td>\n",
       "      <td>-0.019455</td>\n",
       "      <td>0.033457</td>\n",
       "      <td>-0.047576</td>\n",
       "      <td>...</td>\n",
       "      <td>-0.012333</td>\n",
       "      <td>-0.030574</td>\n",
       "      <td>-0.049313</td>\n",
       "      <td>0.031063</td>\n",
       "      <td>-0.001545</td>\n",
       "      <td>0.046860</td>\n",
       "      <td>-0.018278</td>\n",
       "      <td>-0.023158</td>\n",
       "      <td>0.020656</td>\n",
       "      <td>15</td>\n",
       "    </tr>\n",
       "  </tbody>\n",
       "</table>\n",
       "<p>5 rows × 21 columns</p>\n",
       "</div>"
      ],
      "text/plain": [
       "          0         1         2         3         4         5         6  \\\n",
       "0 -0.010839 -0.054468 -0.045219  0.027904  0.004178  0.014831  0.027975   \n",
       "1  0.021419  0.054545  0.024494  0.050154 -0.010105  0.026295  0.095038   \n",
       "2 -0.183194  0.108344  0.022234 -0.027682 -0.090615 -0.234042  0.249747   \n",
       "3 -0.187664  0.074293  0.027456 -0.008034  0.031899  0.007388 -0.054129   \n",
       "4 -0.064482 -0.034150 -0.034454  0.015236  0.026857  0.032034  0.042911   \n",
       "\n",
       "          7         8         9  ...        11        12        13        14  \\\n",
       "0  0.020720  0.001589 -0.044038  ...  0.023595  0.019732  0.020299  0.036435   \n",
       "1 -0.010750 -0.019918  0.008337  ... -0.019816  0.033519  0.009484  0.026311   \n",
       "2  0.327930 -0.082440  0.054169  ...  0.041407 -0.035618  0.095068  0.089690   \n",
       "3 -0.089500  0.059327 -0.024967  ... -0.099716 -0.199648  0.246057  0.319427   \n",
       "4 -0.019455  0.033457 -0.047576  ... -0.012333 -0.030574 -0.049313  0.031063   \n",
       "\n",
       "         15        16        17        18        19  clusters  \n",
       "0  0.013404 -0.001830 -0.001894 -0.007802  0.015702        15  \n",
       "1 -0.020406 -0.002193  0.028673 -0.068564 -0.004727        15  \n",
       "2 -0.026049  0.000724  0.098367  0.035648 -0.008599        28  \n",
       "3  0.065042 -0.026644 -0.130788  0.072236 -0.147840         1  \n",
       "4 -0.001545  0.046860 -0.018278 -0.023158  0.020656        15  \n",
       "\n",
       "[5 rows x 21 columns]"
      ]
     },
     "execution_count": 3,
     "metadata": {},
     "output_type": "execute_result"
    }
   ],
   "source": [
    "data.head()"
   ]
  },
  {
   "cell_type": "code",
   "execution_count": 5,
   "metadata": {},
   "outputs": [],
   "source": [
    "X= data.drop(axis=1, labels=[\"clusters\"])\n",
    "y= data.clusters"
   ]
  },
  {
   "cell_type": "code",
   "execution_count": 6,
   "metadata": {},
   "outputs": [
    {
     "name": "stdout",
     "output_type": "stream",
     "text": [
      "(1274, 20) (319, 20) (1274,) (319,)\n"
     ]
    }
   ],
   "source": [
    "X_train, X_test, y_train, y_test = train_test_split(X, y, test_size=0.20)\n",
    "print(X_train.shape, X_test.shape, y_train.shape, y_test.shape )"
   ]
  },
  {
   "cell_type": "code",
   "execution_count": 7,
   "metadata": {},
   "outputs": [],
   "source": [
    "lr = LogisticRegression(solver ='liblinear',max_iter=500)\n",
    "clf = svm.SVC(gamma='auto', probability=True)\n",
    "rforest = RandomForestClassifier(n_estimators=10)"
   ]
  },
  {
   "cell_type": "code",
   "execution_count": 8,
   "metadata": {},
   "outputs": [
    {
     "name": "stderr",
     "output_type": "stream",
     "text": [
      "/home/eduardo/.local/lib/python3.5/site-packages/sklearn/linear_model/logistic.py:469: FutureWarning: Default multi_class will be changed to 'auto' in 0.22. Specify the multi_class option to silence this warning.\n",
      "  \"this warning.\", FutureWarning)\n"
     ]
    },
    {
     "data": {
      "text/plain": [
       "RandomForestClassifier(bootstrap=True, class_weight=None, criterion='gini',\n",
       "                       max_depth=None, max_features='auto', max_leaf_nodes=None,\n",
       "                       min_impurity_decrease=0.0, min_impurity_split=None,\n",
       "                       min_samples_leaf=1, min_samples_split=2,\n",
       "                       min_weight_fraction_leaf=0.0, n_estimators=10,\n",
       "                       n_jobs=None, oob_score=False, random_state=None,\n",
       "                       verbose=0, warm_start=False)"
      ]
     },
     "execution_count": 8,
     "metadata": {},
     "output_type": "execute_result"
    }
   ],
   "source": [
    "lr.fit(X_train, y_train)\n",
    "clf.fit(X_train, y_train) \n",
    "rforest.fit(X_train, y_train)"
   ]
  },
  {
   "cell_type": "code",
   "execution_count": 9,
   "metadata": {},
   "outputs": [
    {
     "name": "stdout",
     "output_type": "stream",
     "text": [
      "Accuracy LG: 0.3949843260188088\n",
      "Accuracy LG: 0.3949843260188088\n",
      "Accuracy RF: 0.7084639498432602\n"
     ]
    }
   ],
   "source": [
    "y_pred = lr.predict(X_test)\n",
    "y_pred1 = clf.predict(X_test)\n",
    "y_pred2 = rforest.predict(X_test)\n",
    "print(\"Accuracy LG:\",metrics.accuracy_score(y_test, y_pred))\n",
    "print(\"Accuracy LG:\",metrics.accuracy_score(y_test, y_pred))\n",
    "print(\"Accuracy RF:\",metrics.accuracy_score(y_test, y_pred2))"
   ]
  },
  {
   "cell_type": "code",
   "execution_count": 10,
   "metadata": {},
   "outputs": [],
   "source": [
    "rfc=RandomForestClassifier(random_state=42)"
   ]
  },
  {
   "cell_type": "code",
   "execution_count": 11,
   "metadata": {},
   "outputs": [],
   "source": [
    "param_grid = { \n",
    "    'n_estimators': [200, 500],\n",
    "    'max_features': ['auto', 'sqrt'],\n",
    "    'max_depth' : [7,8],\n",
    "    'criterion' :['gini', 'entropy']}"
   ]
  },
  {
   "cell_type": "code",
   "execution_count": 12,
   "metadata": {},
   "outputs": [
    {
     "name": "stderr",
     "output_type": "stream",
     "text": [
      "/home/eduardo/.local/lib/python3.5/site-packages/sklearn/model_selection/_split.py:657: Warning: The least populated class in y has only 4 members, which is too few. The minimum number of members in any class cannot be less than n_splits=5.\n",
      "  % (min_groups, self.n_splits)), Warning)\n",
      "/home/eduardo/.local/lib/python3.5/site-packages/sklearn/model_selection/_search.py:813: DeprecationWarning: The default of the `iid` parameter will change from True to False in version 0.22 and will be removed in 0.24. This will change numeric results when test-set sizes are unequal.\n",
      "  DeprecationWarning)\n"
     ]
    },
    {
     "data": {
      "text/plain": [
       "GridSearchCV(cv=5, error_score='raise-deprecating',\n",
       "             estimator=RandomForestClassifier(bootstrap=True, class_weight=None,\n",
       "                                              criterion='gini', max_depth=None,\n",
       "                                              max_features='auto',\n",
       "                                              max_leaf_nodes=None,\n",
       "                                              min_impurity_decrease=0.0,\n",
       "                                              min_impurity_split=None,\n",
       "                                              min_samples_leaf=1,\n",
       "                                              min_samples_split=2,\n",
       "                                              min_weight_fraction_leaf=0.0,\n",
       "                                              n_estimators='warn', n_jobs=None,\n",
       "                                              oob_score=False, random_state=42,\n",
       "                                              verbose=0, warm_start=False),\n",
       "             iid='warn', n_jobs=None,\n",
       "             param_grid={'criterion': ['gini', 'entropy'], 'max_depth': [7, 8],\n",
       "                         'max_features': ['auto', 'sqrt'],\n",
       "                         'n_estimators': [200, 500]},\n",
       "             pre_dispatch='2*n_jobs', refit=True, return_train_score=False,\n",
       "             scoring=None, verbose=0)"
      ]
     },
     "execution_count": 12,
     "metadata": {},
     "output_type": "execute_result"
    }
   ],
   "source": [
    "CV_rfc = GridSearchCV(estimator=rfc, param_grid=param_grid, cv= 5)\n",
    "CV_rfc.fit(X_train, y_train)"
   ]
  },
  {
   "cell_type": "code",
   "execution_count": 13,
   "metadata": {},
   "outputs": [
    {
     "data": {
      "text/plain": [
       "{'criterion': 'entropy',\n",
       " 'max_depth': 8,\n",
       " 'max_features': 'auto',\n",
       " 'n_estimators': 500}"
      ]
     },
     "execution_count": 13,
     "metadata": {},
     "output_type": "execute_result"
    }
   ],
   "source": [
    "CV_rfc.best_params_"
   ]
  },
  {
   "cell_type": "code",
   "execution_count": 14,
   "metadata": {},
   "outputs": [],
   "source": [
    "rfc1=RandomForestClassifier(random_state=42, max_features='auto', n_estimators= 500, max_depth=8, criterion='entropy')"
   ]
  },
  {
   "cell_type": "code",
   "execution_count": 15,
   "metadata": {},
   "outputs": [
    {
     "data": {
      "text/plain": [
       "RandomForestClassifier(bootstrap=True, class_weight=None, criterion='entropy',\n",
       "                       max_depth=8, max_features='auto', max_leaf_nodes=None,\n",
       "                       min_impurity_decrease=0.0, min_impurity_split=None,\n",
       "                       min_samples_leaf=1, min_samples_split=2,\n",
       "                       min_weight_fraction_leaf=0.0, n_estimators=500,\n",
       "                       n_jobs=None, oob_score=False, random_state=42, verbose=0,\n",
       "                       warm_start=False)"
      ]
     },
     "execution_count": 15,
     "metadata": {},
     "output_type": "execute_result"
    }
   ],
   "source": [
    "rfc1.fit(X_train, y_train)"
   ]
  },
  {
   "cell_type": "code",
   "execution_count": 16,
   "metadata": {},
   "outputs": [],
   "source": [
    "pred=rfc1.predict(X_test)"
   ]
  },
  {
   "cell_type": "code",
   "execution_count": 18,
   "metadata": {},
   "outputs": [
    {
     "name": "stdout",
     "output_type": "stream",
     "text": [
      "Accuracy for Random Forest on CV data:  0.7617554858934169\n"
     ]
    }
   ],
   "source": [
    "print(\"Accuracy for Random Forest on CV data: \",accuracy_score(y_test,pred))"
   ]
  },
  {
   "cell_type": "code",
   "execution_count": 19,
   "metadata": {},
   "outputs": [
    {
     "name": "stdout",
     "output_type": "stream",
     "text": [
      "0.7084639498432602\n"
     ]
    }
   ],
   "source": [
    "gr_boosted = GradientBoostingClassifier()\n",
    "gr_boosted.fit(X_train, y_train)\n",
    "score_booster = gr_boosted.score(X_test, y_test)\n",
    "print(score_booster)"
   ]
  },
  {
   "cell_type": "code",
   "execution_count": null,
   "metadata": {},
   "outputs": [],
   "source": []
  }
 ],
 "metadata": {
  "kernelspec": {
   "display_name": "Python 3",
   "language": "python",
   "name": "python3"
  },
  "language_info": {
   "codemirror_mode": {
    "name": "ipython",
    "version": 3
   },
   "file_extension": ".py",
   "mimetype": "text/x-python",
   "name": "python",
   "nbconvert_exporter": "python",
   "pygments_lexer": "ipython3",
   "version": "3.5.2"
  }
 },
 "nbformat": 4,
 "nbformat_minor": 2
}
